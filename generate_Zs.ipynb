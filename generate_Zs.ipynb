{
 "cells": [
  {
   "cell_type": "code",
   "execution_count": null,
   "metadata": {
    "collapsed": false
   },
   "outputs": [],
   "source": [
    "import numpy as np\n",
    "import pandas as pd\n",
    "import matplotlib.pyplot as plt\n",
    "from sklearn.model_selection import train_test_split\n",
    "\n",
    "np.random.seed(0)"
   ]
  },
  {
   "cell_type": "code",
   "execution_count": null,
   "metadata": {
    "collapsed": false
   },
   "outputs": [],
   "source": [
    "backtest_date = \"2015-01-01\"\n",
    "\n",
    "Z_raw = pd.read_csv(\"data/Z_raw.csv\", index_col=\"Date\")\n",
    "Z_raw.index = pd.to_datetime(Z_raw.index)\n",
    "\n",
    "Z = Z_raw[:backtest_date] #training and validation data\n",
    "Z_holdout = Z_raw[backtest_date:] #test/holdout data\n",
    "\n",
    "for col in Z.columns:\n",
    "    #No holdout data is used in computing the deciles\n",
    "    col_arr, col_bins = pd.qcut(Z[col], q=10, labels=range(10), retbins=True)\n",
    "    Z.loc[:, col] = pd.to_numeric(col_arr).astype(int)\n",
    "    \n",
    "    def map_to_quantile(val):\n",
    "        return np.argmin(abs(val-col_bins[1:]))\n",
    "\n",
    "    Z_holdout.loc[:,col] = Z_holdout.loc[:,col].apply(map_to_quantile)\n",
    "\n",
    "Z_train, Z_val = train_test_split(Z, test_size=0.2, random_state=0)"
   ]
  },
  {
   "cell_type": "code",
   "execution_count": null,
   "metadata": {
    "collapsed": false
   },
   "outputs": [],
   "source": [
    "#correlation matrix over the training and validation periods\n",
    "Z.corr().round(2)"
   ]
  },
  {
   "cell_type": "code",
   "execution_count": null,
   "metadata": {
    "collapsed": false
   },
   "outputs": [],
   "source": [
    "fig, ax = plt.subplots(1,1,figsize=(10,5))\n",
    "\n",
    "pd.concat([Z, Z_holdout]).rename(columns={\"vix\":\"Volatility\", \"unemployment\":\"Unemployment\",\n",
    "                                               \"inflation\":\"Inflation\", \"mort30us\":\"Mortgage\"}).plot(ax=ax, fontsize=\"large\")\n",
    "ax.set_xlabel(\"Date\", fontsize=\"x-large\")\n",
    "ax.set_ylabel(\"Decile\", fontsize=\"x-large\")\n",
    "ax.set_yticks(range(10))\n",
    "ax.set_yticklabels(range(1,10+1))\n",
    "plt.axvline(backtest_date, color=\"black\")\n",
    "plt.tight_layout()\n",
    "plt.show()\n",
    "\n",
    "print(\"The average value of ||z_(t+1)-z_(t)||_1 = {:.2f}.\".format(\n",
    "    Z.diff().dropna().apply(lambda x: np.linalg.norm(x,1), axis=1).mean()))"
   ]
  }
 ],
 "metadata": {
  "kernelspec": {
   "display_name": "research",
   "language": "python",
   "name": "research"
  },
  "language_info": {
   "codemirror_mode": {
    "name": "ipython",
    "version": 3
   },
   "file_extension": ".py",
   "mimetype": "text/x-python",
   "name": "python",
   "nbconvert_exporter": "python",
   "pygments_lexer": "ipython3",
   "version": "3.6.10"
  }
 },
 "nbformat": 4,
 "nbformat_minor": 2
}
